{
 "cells": [
  {
   "cell_type": "code",
   "execution_count": null,
   "metadata": {},
   "outputs": [],
   "source": [
    "import pandas as pd \n",
    "data = pd.read_csv(r\"D:\\2011_Census\\villages_copy.csv\") \n",
    "data.head()"
   ]
  },
  {
   "cell_type": "code",
   "execution_count": null,
   "metadata": {},
   "outputs": [],
   "source": [
    "data['District Name'].unique().size"
   ]
  },
  {
   "cell_type": "code",
   "execution_count": null,
   "metadata": {},
   "outputs": [],
   "source": [
    "data['Name']"
   ]
  },
  {
   "cell_type": "code",
   "execution_count": null,
   "metadata": {},
   "outputs": [],
   "source": [
    "from fuzzywuzzy import fuzz\n",
    "from fuzzywuzzy import process"
   ]
  },
  {
   "cell_type": "code",
   "execution_count": null,
   "metadata": {},
   "outputs": [],
   "source": [
    "fuzz.ratio(\"Catherine M Gitau\",\"Catherine Gitau\")\n",
    "#91"
   ]
  },
  {
   "cell_type": "code",
   "execution_count": null,
   "metadata": {},
   "outputs": [],
   "source": [
    "fuzz.partial_ratio(\"Catherine M. Gitau\",\"Catherine Gitau\")\n",
    "#100"
   ]
  },
  {
   "cell_type": "code",
   "execution_count": null,
   "metadata": {},
   "outputs": [],
   "source": [
    "fuzz.token_sort_ratio(\"Catherine Gitau M.\", \"Gitau Catherine\")"
   ]
  },
  {
   "cell_type": "code",
   "execution_count": null,
   "metadata": {},
   "outputs": [],
   "source": [
    "import Levenshtein as lev\n",
    "from fuzzywuzzy import fuzz\n",
    "import csv\n",
    "import codecs\n",
    "\n",
    "dist_function = lambda x, y: (lev.ratio(x, y))\n",
    "# dist_function = lambda x, y: (fuzz.partial_ratio(x, y), 80)\n",
    "\n",
    "max = 0\n",
    "bestmatch = ''\n",
    "stateOfbestMatch = ''\n",
    "matched = []\n",
    "with codecs.open('FuzzyMatches.csv', 'w', 'utf-8') as csvfile:\n",
    "    filewriter = csv.writer(csvfile, delimiter=',', quotechar='|', quoting=csv.QUOTE_MINIMAL)\n",
    "    for i, j in data.iterrows(): \n",
    "        for x, y in data.iterrows(): \n",
    "            try:\n",
    "                r = dist_function(j[\"Name\"], y[\"Name\"])\n",
    "                if(r > 0.50 and r > max):\n",
    "                    max = r\n",
    "                    bestmatch =  y[\"Name\"]\n",
    "                    stateOfbestMatch = y[\"District Name\"]\n",
    "                    if (max != 0 & (j[\"Name\"] not in matched)):\n",
    "                        matched.append(y[\"Name\"])\n",
    "                        matched.append(j[\"Name\"])\n",
    "                        filewriter.writerow([j[\"Name\"], bestmatch, j[\"District Name\"], stateOfbestMatch, max, \"match\"])\n",
    "            except:\n",
    "                 print(j[\"Name\"], y[\"Name\"])"
   ]
  },
  {
   "cell_type": "code",
   "execution_count": null,
   "metadata": {},
   "outputs": [],
   "source": [
    "df = data.groupby('Name').groups"
   ]
  },
  {
   "cell_type": "code",
   "execution_count": null,
   "metadata": {},
   "outputs": [],
   "source": [
    "len(df)"
   ]
  },
  {
   "cell_type": "code",
   "execution_count": null,
   "metadata": {},
   "outputs": [],
   "source": [
    "df = data.groupby('District Name').groups"
   ]
  },
  {
   "cell_type": "code",
   "execution_count": null,
   "metadata": {},
   "outputs": [],
   "source": [
    "len(df)"
   ]
  },
  {
   "cell_type": "code",
   "execution_count": null,
   "metadata": {},
   "outputs": [],
   "source": [
    "data[\"Name\"].value_counts()"
   ]
  },
  {
   "cell_type": "code",
   "execution_count": null,
   "metadata": {},
   "outputs": [],
   "source": [
    "second_most_common=data[data.Name!=data.Name.mode().item()].Name.mode().item()"
   ]
  },
  {
   "cell_type": "code",
   "execution_count": null,
   "metadata": {},
   "outputs": [],
   "source": [
    "data['lev'] = data[\"Name\"].apply(lambda x: dist_function(str(x), second_most_common))"
   ]
  },
  {
   "cell_type": "code",
   "execution_count": null,
   "metadata": {},
   "outputs": [],
   "source": [
    "data[data.lev==data[data.lev!=1.0].lev.max()]"
   ]
  },
  {
   "cell_type": "code",
   "execution_count": null,
   "metadata": {},
   "outputs": [],
   "source": []
  }
 ],
 "metadata": {
  "kernelspec": {
   "display_name": "Python 3",
   "language": "python",
   "name": "python3"
  },
  "language_info": {
   "codemirror_mode": {
    "name": "ipython",
    "version": 3
   },
   "file_extension": ".py",
   "mimetype": "text/x-python",
   "name": "python",
   "nbconvert_exporter": "python",
   "pygments_lexer": "ipython3",
   "version": "3.7.6"
  }
 },
 "nbformat": 4,
 "nbformat_minor": 2
}
