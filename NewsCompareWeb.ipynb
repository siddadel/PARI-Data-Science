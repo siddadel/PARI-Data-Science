{
 "cells": [
  {
   "cell_type": "markdown",
   "metadata": {},
   "source": [
    "# A simple flask webapp to try out our NER based heuristic function that returns news similarity"
   ]
  },
  {
   "cell_type": "code",
   "execution_count": 4,
   "metadata": {},
   "outputs": [],
   "source": [
    "from flask import Flask\n",
    "from flask import request\n",
    "from flask import redirect\n",
    "\n",
    "#iinstall spacy in your conda conda install -c conda-forge spacy\n",
    "# python -m spacy download en_core_web_sm\n",
    "import spacy\n",
    "import os\n",
    "import pandas as pd\n",
    "import glob\n",
    "from collections import defaultdict\n",
    "import re\n",
    "from datetime import datetime\n",
    "from datetime import timedelta\n",
    "import dateutil.parser\n",
    "import pandas as pd"
   ]
  },
  {
   "cell_type": "code",
   "execution_count": 6,
   "metadata": {},
   "outputs": [],
   "source": [
    "# https://spacy.io/api/annotation#named-entities\n",
    "\n",
    "Weights = {'CARDINAL': 1,\n",
    " 'DATE': 1,\n",
    " 'EVENT': 1,\n",
    " 'FAC':  2,\n",
    " 'GPE': 2,\n",
    " 'LANGUAGE': 1,\n",
    " 'LAW': 2,\n",
    " 'LOC': 2,\n",
    " 'MONEY': 4,\n",
    " 'NORP': 1,\n",
    " 'ORDINAL': 1,\n",
    " 'ORG': 16,\n",
    " 'PERCENT': 16,\n",
    " 'PERSON': 16,\n",
    " 'PRODUCT': 4,\n",
    " 'QUANTITY': 2,\n",
    " 'TIME': 1,\n",
    " 'WORK_OF_ART': 4\n",
    "          }\n",
    "\n",
    "# Load English tokenizer, tagger, parser, NER and word vectors\n",
    "# nlp = spacy.load(\"en_core_web_lg\")\n",
    "# nlp = spacy.load(\"en_core_web_md\")\n",
    "nlp = spacy.load(\"en_core_web_sm\")\n",
    "\n",
    "\n",
    "def intersection(x, y):\n",
    "    r = set.intersection(x, y).difference(['Join Livemint', 'Telegram', 'Mint'])\n",
    "    return r\n",
    "\n",
    "\n",
    "def weighted_score(inter):\n",
    "    l = list(inter)\n",
    "    score = 0\n",
    "    for i in l:\n",
    "        score += Weights[i.split(':')[0]]\n",
    "    return score\n",
    "\n",
    "\n",
    "def vec_similarity(x, y):\n",
    "    if x is not None and y is not None:\n",
    "        return x.similarity(y)\n",
    "\n",
    "    return -1\n",
    "\n",
    "\n",
    "def tag(x):\n",
    "    s = set()\n",
    "    doc = nlp(x)\n",
    "    for ent in doc.ents:\n",
    "        s.add(ent.label_+\":\"+ent.text)\n",
    "    return s\n",
    "\n",
    "\n",
    "\n",
    "def heuristic(x, y): \n",
    "    intersect = intersection(tag(x), tag(y))\n",
    "    score = weighted_score(intersect)\n",
    "    vec_sim = vec_similarity(nlp(x), nlp(y))\n",
    "    verdict = 0\n",
    "    if (vec_sim>0.95) and len(intersect)>2 and (score>100):\n",
    "        verdict = 1\n",
    "    r = \"Score: \"+str(score)+ \"<br>Intersect: \"+str(intersect)+\"<br>Content Vector Similarity: \"+str(vec_sim)+ \"<br>Verdict: \"+ str(verdict)\n",
    "    return verdict, r"
   ]
  },
  {
   "cell_type": "code",
   "execution_count": null,
   "metadata": {},
   "outputs": [
    {
     "name": "stdout",
     "output_type": "stream",
     "text": [
      " * Serving Flask app \"__main__\" (lazy loading)\n",
      " * Environment: production\n",
      "   WARNING: This is a development server. Do not use it in a production deployment.\n",
      "   Use a production WSGI server instead.\n",
      " * Debug mode: off\n"
     ]
    },
    {
     "name": "stderr",
     "output_type": "stream",
     "text": [
      " * Running on http://0.0.0.0:5000/ (Press CTRL+C to quit)\n",
      "127.0.0.1 - - [07/Dec/2020 00:31:56] \"GET /eval?x=%22The+Pradhan+Mantri+Jan+Dhan+Yojana+%28PMJDY%29%2C+the+countryâ€™s+financial+inclusion+initiative+that+was+launched+six+years+ago%2C+has+more+than+403.5+million+accounts+with+total+deposits+in+excess+of+Rs+1.30+lakh+crore%2C+the+Union+finance+ministry+said.%0D%0AThe+scheme%2C+which+has+become+the+basis+of+direct+transfer+of+cash+subsidy+to+the+poor%2C+was+announced+by+Prime+Minister+Narendra+Modi+in+his+Independence+Day+speech+on+August+15%2C+2014%2C+and+was+launched+on+August+28+that+year.%0D%0Aâ€œToday%2C+six+years+ago%2C+the+PMJDY+was+launched+with+an+ambitious+aim+of+banking+the+unbanked.+This+initiative+has+been+a+game-changer%2C+serving+as+the+foundation+for+several+poverty+alleviation+initiatives%2C+benefitting+crores+of+people%2Câ€+PM+Modi+tweeted+on+Friday.%0D%0AThe+government+is+planning+to+expand+the+scheme+to+provide+insurance+coverage+to+PMJDY+account+holders.+â€œEligible+PMJDY+account+holders+will+be+sought+to+be+covered+under+PMJJBY+%5BPradhan+Mantri+Jeevan+Jyoti+Bima+Yojana%5D+and+PMSBY+%5BPradhan+Mantri+Suraksha+Bima+Yojana%5D.+Banks+have+already+been+communicated+about+the+same%2Câ€+it+said+in+a+statement.%0D%0AThe+government+is+also+planning+to+promote+digital+payments%2C+including+RuPay+debit+card+usage%2C+among+PMJDY+account+holders+through+creation+of+acceptance+infrastructure+across+the+country+and+provide+access+of+the+account+holders+to+micro-credit+and+micro+investment+facilities%2C+it+added.+%0D%0AAccording+to+the+statement%2C+as+on+August+19%2C+out+of+the+total+PMJDY+account+holders%2C+63.6%25+were+in+rural+areas+and+55.2%25+accounts+belonged+to+women.+â€œThanks+to+the+PMJDY%2C+the+future+of+several+families+has+become+secure.+A+high+proportion+of+beneficiaries+are+from+rural+areas+and+are+women%2Câ€+the+PM+said+in+another+tweet.%0D%0AFinancial+inclusion+is+a+national+priority+of+the+government%2C+as+it+is+an+enabler+for+inclusive+growth%2C+the+finance+ministry+said.+â€œIt+is+important+as+it+provides+an+avenue+to+the+poor+for+bringing+their+savings+into+the+formal+financial+system%2C+an+avenue+to+remit+money+to+their+families+in+villages+besides+taking+them+out+of+the+clutches+of+the+usurious+money+lenders%2Câ€+it+added.%0D%0Aâ€œThe+PMJDY+has+been+the+foundation+stone+for+the+Modi+governmentâ€™s+people-centric+economic+initiatives.+Whether+it+is+direct+benefit+transfers+%28DBTs%29%2C+coronavirus+disease+%28Covid-19%29+financial+assistance%2C+PM-KISAN%2C+increased+wages+under+the+MGNREGA+%5BMahatma+Gandhi+National+Rural+Employment+Guarantee+Act%2C+2005%5D%2C+life+and+health+insurance+cover%2C+the+first+step+was+to+provide+every+adult+with+a+bank+account%2C+which+PMJDY+has+nearly+completed%2Câ€+finance+minister+Nirmala+Sitharaman+said.%0D%0AThe+PMJDY+became+an+important+instrument+to+expeditiously+provide+relief+to+the+poor+under+the+Pradhan+Mantri+Garib+Kalyan+Package+that+was+announced+on+March+26.+The+package+provided+an+amount+of+Rs+500+per+month+for+three+months+to+women+PMJDY+account+holders.+%0D%0Aâ€œA+total+of+Rs+30%2C705+crore+have+been+credited+in+accounts+of+women+PMJDY+account+holders+during+April-June%2Câ€+the+statement+said.+%0D%0ABesides%2C+about+80+million+PMJDY+account+holders+receive+DBT+from+the+government+under+various+schemes.%0D%0AThe+scheme+involves+opening+of+basic+savings+bank+deposit+accounts+with+minimal+paperwork.+The+process+of+account+opening+is+simple+with+relaxed+know-your-customer+%28KYC%29+norms.+These+accounts+are+zero+balance+and+zero+charge+accounts.+Account+holders+are+issued+indigenous+debit+cards+with+free+accident+insurance+coverage+of+Rs+2+lakh.%0D%0AIn+August%2C+about+86.3%25+%28348.1+million%29+accounts+were+operative%2C+the+statement+said.+%0D%0AAs+per+the+guidelines+of+the+Reserve+Bank+of+India+%28RBI%29%2C+a+PMJDY+account+is+treated+as+inoperative%2C+if+there+are+no+customer+induced+transactions+in+the+account+for+over+a+period+of+two+years.+%0D%0AAt+present%2C+these+accounts+have+a+deposit+balance+of+Rs+1.31+lakh+crore%2C+with+an+average+deposit+of+Rs+3%2C239+per+account.+The+average+deposit+per+account+has+increased+2.5+times%2C+which+indicates+increased+usage+of+accounts+and+inculcation+of+saving+habit+among+the+account+holders%2C+it+said.%0D%0AThe+PMJDY+account+holders+can+also+take+help+of+â€˜Jan+Dhan+Darshak+Appâ€™%2C+a+mobile+application%2C+for+locating+banking+touchpoints+such+as+bank+branches%2C+automated+teller+machines+%28ATMs%29%2C+Bank+Mitras+and+post+offices%2C+it+said.%0D%0AThere+are+over+eight+lakh+banking+touchpoints%2C+it+added.%22%0D%0A&y=%22Pradhan+Mantri+Jan+Dhan+Yojana+or+PMJDY+â€“+the+national+mission+for+financial+inclusion+completed+six+years+of+its+implementation+on+Friday.+On+the+6th+anniversary+of+PMJDY%2C+Ministry+of+Finance+mentioned+the+achievements+of+the+scheme+in+a+series+of+tweets.%0D%0AMore+than+40.35+crore+beneficiaries+banked+under+PMJDY+since+its+inception%2C+amounting+to+Rs+1.31+lakh+crore%2C+the+Ministry+of+Finance+said.%0D%0A%22%22As+on+August+19%2C+2020%2C+63.6+percent+rural+PMJDY+accounts+and+55.2+percent+women+PMJDY+accounts+were+opened%2C%22%22+it+said.%0D%0APradhan+Mantri+Jan+Dhan+Yojana+%28%23PMJDY%29+completes+6+years+today%0D%0Aâž¡ï¸Launched+on+28.08.2014%0D%0Aâž¡ï¸National+Mission+for+Financial+Inclusion%0D%0Aâž¡ï¸one+of+the+biggest+financial+inclusion+initiatives+in+the+world%0D%0A%281%2F7%29%236YearsOfJanDhanYojana%0D%0ARead+Moreâž¡ï¸https%3A%2F%2Ft.co%2FUqgOUsz4bVpic.twitter.com%2FyQkKxiwuR3%0D%0Aâ€”+Ministry+of+Finance+%28%40FinMinIndia%29+August+28%2C+2020%0D%0A%22%22Under+PM+Garib+Kalyan+Yojana%2C+a+total+of+Rs+30%2C705+crore+were+credited+in+accounts+of+women+PMJDY+account+holders+during+April-June%2C+2020.+About+8+crore+PMJDY+account+holders+receive+Direct+Benefit+Transfer+%28DBT%29+from+the+government+under+various+schemes%2C%22%22+the+Press+Information+Bureau+%28PIB%29+mentioned+in+a+release.%0D%0AOn+the+occasion%2C+Finance+Minister+Nirmala+Sitharaman+also+reiterated+the+importance+of+PMJDY+and+emphasized+how+this+scheme+has+been+the+foundation+stone+for+the+PM+Modi+governmentâ€™s+people-centric+economic+initiatives.%0D%0Aâ€œWhether+it+is+direct+benefit+transfers%2C+COVID-19+financial+assistance%2C+PM-KISAN%2C+increased+wages+under+MGNREGA%2C+life+and+health+insurance+cover%2C+the+first+step+was+to+provide+every+adult+with+a+bank+account%2C+which+PMJDY+has+nearly+completed%2C%22%22+she+said.%0D%0AMinister+of+State+for+Finance+and+Corporate+Affairs%2C+Anurag+thakur+also+expressed+his+thoughts+for+PMJDY+on+this+occasion.%0D%0Aâ€œUnder+the+leadership+of+Prime+Minister+Narendra+Modi%2C+PMJDY+has+brought+the+unbanked+into+the+banking+system%2C+expanded+the+financial+architecture+of+India+and+brought+financial+inclusion+to+over+40+crore+account+holders.+A+majority+of+the+beneficiaries+are+women+and+most+of+the+accounts+are+from+rural+India%2C%22%22+he+said.%0D%0A%22%22In+todayâ€™s+COVID-19+times%2C+we+have+witnessed+the+remarkable+swiftness+and+seamlessness+with+which+DBTs+have+empowered+and+provided+financial+security+to+the+vulnerable+sections+of+society.+An+important+aspect+is+that+DBTs+via+PM+Jan+Dhan+accounts+have+ensured+every+rupee+reaches+its+intended+beneficiary+and+prevented+systemic+leakage%2C%22%22+he+added.%0D%0APMJDY+was+announced+by+PM+Modi+in+his+Independence+Day+address+on+August+15%2C+2014.+While+launching+the+programme+on+August+28%2C+2020%2C+the+Prime+Minister+had+described+the+occasion+as+a+festival+to+celebrate+the+liberation+of+the+poor+from+a+vicious+cycle.%22%0D%0A HTTP/1.1\" 200 -\n",
      "127.0.0.1 - - [07/Dec/2020 00:32:42] \"GET /eval?x=%22Written+by+Sadaf+Modak%0D%0A+%7C+%0D%0APublished%3A+August+28%2C+2020+9%3A03%3A07+pm%0D%0AChoski+sought+a+preview+of+the+show+stating+that+he+has+the+right+to+a+fair+and+free+trial+and+that+he+had+apprehensions+that+the+show+could+cause+prejudice+to+the+trialThe+Delhi+High+Court+Friday+dismissed+a+plea+filed+by+fugitive+diamond+merchant+Mehul+Choksi%2C+one+of+the+key+accused+in+the+alleged+Rs+13500-crore+Punjab+National+Bank+%28PNB%29+fraud+case%2C+seeking+a+preview+of+Netflix+documentary+Bad+Boy+Billionaires-India.%0D%0AThe+docuseries%2C+which+will+be+released+worldwide+on+September+2%2C+features%2C+among+others%2C+Choksiâ€™s+nephew+Nirav+Modi%2C+who+is+also+an+accused+in+the+alleged+fraud.+Choski+sought+a+preview+of+the+show+stating+that+he+has+the+right+to+a+fair+and+free+trial+and+that+he+had+apprehensions+that+the+show+could+cause+prejudice+to+the+trial.%0D%0AA+look+at+Choksis+petition+and+other+similar+petitions+or+cases+by+the+accused+against+publication+of+books+or+release+of+films.%0D%0AWhat+did+Mehul+Choksiâ€™s+petition+seek%3F%0D%0AChoksi%2C+the+promoter+of+Gitanjali+Gems+Ltd%2C+who+has+acquired+the+citizenship+of+Antigua+and+Barbuda%2C+submitted+to+the+court+that+he+had+seen+a+trailer+of+the+Netflix+show+in+August+and+had+received+calls+from+various+persons+across+the+world+to+check+if+he+was+a+part+of+it.%0D%0AChoksi+claimed+he+feared+that+his+name+may+have+been+used+in+connection+with+his+nephew+Modi%2C+who+is+featured+in+the+show.+He+sought+a+pre-screening+to+allay+these+apprehensions+and+that+appropriate+reliefs+â€”+deletions+or+disclaimers+â€”+be+available+to+him.+The+counsel+for+Netflix+had+told+the+court+that+Choksi+was+in+the+show+only+for+two+minutes%2C+and+it+was+not+pertaining+to+the+trial.+The+platform+said+that+while+it+was+ready+to+show+the+series+to+the+court%2C+a+pre-screening+could+not+be+held+for+Choksi.+The+court%2C+however%2C+dismissed+the+writ+petition+stating+that+it+was+not+maintainable+since+it+was+against+a+private+entity+and+an+appropriate+civil+suit+could+be+filed.%0D%0AOn+what+grounds+is+relief+usually+sought+against+an+upcoming+book+or+film%3F%0D%0AThe+basis+of+seeking+relief+in+such+cases+is+the+ground+that+the+publication+of+a+book+or+a+release+of+a+film%2Fdocumentary%2Fshow+can+cause+prejudice+to+a+pending+trial.+Choksi+relied+on+Article+21+of+the+Constitution+that+guarantees+equality+before+law%2C+the+presumption+of+innocence+before+being+found+guilty%2C+and+a+fair+and+free+trial.%0D%0ASimilar+relief+has+been+sought+in+other+cases+in+the+past+as+well.+Relief+is+usually+sought+on+grounds+including+Article+21+and+Article+19%2C+which%2C+while+guaranteeing+freedom+of+speech+and+expression%2C+imposes+reasonable+restrictions+on+grounds+of+contempt+of+court+and+defamation.+Usually+accused+persons+also+refer+to+the+damage+that+can+be+caused+to+their+reputation.%0D%0AMumbai+serial+blasts+and+film+â€˜Black+Fridayâ€™%0D%0AAn+accused+in+the+1993+Bombay+serial+blasts+case%2C+Mushtaq+Moosa+Tarani%2C+had+approached+the+Bombay+High+Court+in+2005+seeking+a+stay+on+the+release+of+Black+Friday%2C+a+film+based+on+the+book+by+journalist+S+Hussain+Zaidi.+Initially+based+on+an+application+filed+before+the+trial+court+by+31+undertrial+prisoners+in+the+case%2C+the+words+â€˜True+Storyâ€™+was+removed+from+the+title+of+the+film.%0D%0AÂ Express+ExplainedÂ is+now+onÂ Telegram.+ClickÂ here+to+join+our+channel+%28%40ieexplained%29Â and+stay+updated+with+the+latest%0D%0ATarani+submitted+to+the+high+court+that+he+feared+the+film+will+vitiate+a+fair+trial+and+have+a+damaging+effect+on+the+impartiality+of+the+administration+of+justice+and+would+amount+to+contempt+of+court.+The+HC+restrained+the+film+from+being+released+till+the+final+judgment+in+the+case+is+pronounced.+It+said+the+loss+to+the+petitionerâ€™s+dignity+and+reputation+would+be+irreparable+as+the+viewers+may+form+an+opinion+about+his+guilt.+It+also+said+that+the+release+of+the+film+will+have+a+prejudicial+effect+on+the+administration+of+justice+and+the+image+of+the+accused.+The+filmmakers+had+approached+the+Supreme+Court+against+this+order+but+the+film+was+allowed+to+be+released+only+after+the+judgment+in+the+case+in+2006.%0D%0AAbu+Salem+and+book+My+Name+is+Abu+Salem%0D%0A+Gangster+Abu+Salem+had+sought+relief+in+deferring+the+book+â€˜My+Name+is+Abu+Salemâ€™Gangster+Abu+Salem%2C+who+was+facing+trial+for+the+murder+of+Mumbai-based+builder+Pradeep+Jain%2C+had+also+sought+a+similar+relief+deferring+the+release+of+a+book+titled%2C+My+Name+is+Abu+Salem%2C+as+the+trial+in+the+case+was+ongoing+in+2014.+The+special+trial+court+had+restrained+the+sale+of+the+book+directing+it+to+be+withdrawn+from+stores+and+e-portals+after+observing+that+the+consent+of+the+accused+was+not+taken+and+that+it+may+cause+him+prejudice.+The+Bombay+High+Court%2C+however%2C+had+set+aside+the+order+stating+that+the+trial+court+did+not+have+powers+to+do+so.%0D%0ABatla+House%0D%0A+A+still+from+the+movie+â€˜Batla+Houseâ€™In+another+case+before+the+Delhi+High+Court+in+2019%2C+the+accused+persons+in+the+Batla+House+encounter+case+in+Delhi+sought+that+a+film+titled+Batla+House+be+postponed+till+the+pending+trials+conclude.+The+court+had+ordered+for+a+pre-screening+of+the+film+witnessed+by+counsel+of+both+sides.+Both+parties+agreed+to+resolve+issues+in+the+film%2C+including+deleting+certain+scenes+showing+the+accused+making+explosive+devices%2C+their+confessions+and+an+actual+photograph+of+a+Delhi+Police+personnel.+After+this%2C+the+film+was+allowed+to+be+released+last+year.%0D%0AThe+Indian+Express+is+now+on+Telegram.+Click+here+to+join+our+channel+%28%40indianexpress%29+and+stay+updated+with+the+latest+headlines%0D%0AFor+all+the+latest+Explained+News%2C+download+Indian+Express+App.%22%0D%0A&y=%22The+Delhi+High+Court+Friday+dismissed+a+plea+by+Mehul+Choksi%2C+an+accused+in+the+nearly+USD+2+billion+PNB+scam%2C+to+conduct+pre-screening+of+Netflix+documentary%2C+Bad+Boy+Billionaires%27.%0D%0AJustice+Navin+Chawla%2C+after+hearing+the+matter+for+over+two+hours%2C+declined+to+grant+relief+to+Choksi+saying+a+writ+petition+for+enforcement+of+a+private+right+cannot+be+maintainable.%0D%0AThe+court+said+his+remedy+lies+in+a+civil+suit+and+granted+him+the+liberty+to+raise+the+issue+in+a+civil+suit.%0D%0AChoksi%2C+the+promoter+of+Gitanjali+Gems%2C+and+his+nephew+Nirav+Modi+are+accused+in+the+Rs+13%2C500+crore+Punjab+National+Bank+fraud+case.%0D%0AChoksi+left+the+country+last+year+and+was+granted+citizenship+of+Antigua+and+Barbuda.%0D%0AThe+documentary%2C+Bad+Boy+Billionaires%27%2C+which+is+scheduled+to+be+released+in+India+on+September+2%2C+is+described+on+Netflix+platform+as%2C+This+investigative+docuseries+explores+the+greed%2C+fraud+and+corruption+that+built+up+-+and+ultimately+brought+down+-+India%27s+most+infamous+tycoons.%0D%0AThe+plea+was+pre-screening+of+the+documentary+was+vehemently+opposed+by+Netflix.%0D%0A%28Only+the+headline+and+picture+of+this+report+may+have+been+reworked+by+the+Business+Standard+staff%3B+the+rest+of+the+content+is+auto-generated+from+a+syndicated+feed.%29%22%0D%0A HTTP/1.1\" 200 -\n"
     ]
    },
    {
     "name": "stderr",
     "output_type": "stream",
     "text": [
      "127.0.0.1 - - [07/Dec/2020 00:34:52] \"GET /eval?x=%22Six+ministers+from+Maharashtra%2C+Punjab%2C+West+Bengal%2C+Jharkhand%2C+Rajasthan+and+Chhattisgarh+moved+the+Supreme+Court+on+Friday+and+sought+review+of+its+August+17+order+allowing+conduct+of+NEET+%28UG%29+and+JEE+%28Mains%29+entrance+examinations.%0D%0AThe+plea+referred+to+the+rise+in+Covid-19+cases+in+the+country+and+said+that+if+the+August+17+order+is+not+reviewed%2C+grave+and+irreparable+harm+and+injury+would+befall+on+the+student+community.+The+petitioners+said+not+only+will+health%2C+welfare+and+safety+of+students%2Fcandidates+appearing+for+the+NEET%2FJEE+examinations+stand+imperilled+but+also+the+public+health+at+large+would+be+in+severe+jeopardyâ€¦%0D%0AThe+petitioners+are+Moloy+Ghatak+%28minister+from+West+Bengal%29%2C+Rameshwar+Oraon+%28Jharkhand%29%2C+Raghu+Sharma+%28Rajasthan%29%2C+Amarjeet+Bhagat+%28Chhattisgarh%29%2C+Balbir+Singh+Sidhu+%28Punjab%29%2C+and+Uday+Ravindra+Samant+%28Maharashtra%29.%0D%0AThe+petition%2C+filed+through+advocate+Sunil+Fernandes%2C+stated+that+the+National+Testing+Agency+%28NTA%29+had+notified+that+NEET+%28UG%29+will+be+held+on+September+13+and+JEE+%28Mains%29+from+September+1-6.%0D%0AThe+plea+said+that+as+per+NTA%2C+approximately+9.53+lakh+and+15.97+lakh+students+have+registered+for+JEE+%28Mains%29+and+NEET+%28UG%29%2C+respectively.+This+means+25+lakh+students+cumulatively+would+be+appearing+for+these+two+examinations%2C+the+petition+stated.+As+on+27th+August%2C+India+has+over+3.31+million+%5Bmore+than+33+lakh%5D+Covid-19+cases.+We+are+presently+at+the+third+position+in+this+unenviable+list+after+the+US+%285.79+million+cases%29+and+Brazil+%283.72+million%29+and+on+course+to+be+the+No.+1+nation+on+this+list.%0D%0AWhile+there+are+660+examination+centres+for+JEE+roughly+1%2C443+students+per+centre+there+are+3%2C843+centres+for+NEET%2C+or+approximately+415+students+per+centre%2C+the+petitioners+pointed+out.+Such+large+movement+of+people+will+ipso+facto+prove+to+be+a+serious+health+hazard+and+will+totally+defeat+the+twin+present-day+solutions+we+have+of+combating+the+Covid-19+i.e.+social+distancing+and+avoidance+of+large+public+gatherings%2C+they+said%2C+urging+the+court+to+postpone+the+entrance+examinations.%0D%0ARead+%7C+Odisha+announces+free+transport%2C+stay+for+NEET%2C+JEE+candidates%0D%0AThe+plea+said%2C+Having+at+least+one+centre+per+district+would+have+minimised+the+inter-district+travel+of+students+and+thereby+reduced+chances+of+Covid-19+spread.%0D%0AThe+petitioners+said%2C+The+mere+fact+that+lakhs+of+students+have+registered+for+the+exam+is+not+indicative+of+their+consent+or+willingness+or+desire+to+attend+physical+exams%2C+as+no+student+would+like+to+forego+the+exam%2C+if+its+conducted+and+the+respondents+are+forcing+the+students+to+put+their+lives+and+health+in+peril+by+conducting+these+exams.%0D%0AIn+a+situation%2C+the+plea+said%2C+where+there+is+absolutely+no+classroom+teaching%2C+the+decision+of+the+Union+Government+to+conduct+examinations+on+such+a+massive+scale+reveals+non-application+of+mind+and+is+unreasonable%2C+arbitrary+and+capricious+exercise+of+power.%0D%0AThe+petitioners+said+they+do+not+wish+to+make+any+value+judgment+or+political+criticism+of+the+Union+Government+in+such+times+but+the+undisputed+facts+are+that+there+has+been+an+exponential+increase+in+both+Covid-19+positive+cases+as+well+as+deaths%2Fmortality+arising+out+of+Covid-19+from+April%2C+when+these+exams+were+originally+scheduled%2C+till+August%2C+when+the+Union+Government+decided+to+conduct+the+said+examinations.%0D%0AThe+Covid-19+graph+is+showing+a+continuous+upward+movement+and+the+â€˜curveâ€™+has+not+flattened+for+the+Government+to+undertake+such+a+massive+exercise%2C+the+petition+stated.+It+said+that+schools+and+colleges+continue+to+remain+shut+despite+the+various+phases+of+unlock+and+there+is+no+rational+nexus+between+the+object+of+the+examinations+and+the+purpose+that+it+seeks+to+achieve.%0D%0AAlso+Read+%7C+West+Bengal+not+to+hold+final+year+exams+in+September%2C+likely+before+Puja%0D%0AThe+six+ministers+stated+that+the+Centre+had+adequate+time+to+make+comprehensive+preparations+for+safe+and+successful+conduct+of+the+examinations.+However%2C+they+argued%2C+the+intervening+months+from+April+to+September+were+characterised+by+inaction%2C+confusion%2C+lethargy+and+inertiaâ€¦now+the+Union+Government+has+suddenly+woken+up+to+realise+that+their+inertia+is+going+to+cost+lakhs+of+students+their+academic+year+and+therefore+as+a+knee-jerk+reactionâ€¦has+haphazardly+and+hurriedly+fixed+the+dates+of+the+examinations.%0D%0AThe+petitioners+called+it+a+remedy+that+will+prove+to+be+worse+than+the+disease+itself.%0D%0AThe+plea+said+that+postponing+the+exams+by+two+months+would+give+valuable+time+to+the+government+to+put+in+place+an+adequate+mechanism+in+consultation+with+the+State+Governments%2C+to+ensure+a+smoother+and+safer+conduct+of+examinations.%0D%0AThe+petition+also+pointed+to+health+issues+of+students+and+said+that+even+otherwise%2C+with+recent+evidences+and+information+of+the+virus+being+allegedly+airborne+now%2C+conducting+of+physical+examination+of+such+magnitude+can+have+disastrous+consequences.%0D%0AAlso+Read+%7C+Sonu+Sood+offers+help+to+students+who+need+to+travel+for+JEE%2C+NEET%0D%0AThe+petition+said+there+have+been+instances+where+surge+in+cases+have+been+reported+after+offline+exams+were+conducted.%0D%0AThe+process+of+reaching+the+examination+centre+itself+can+be+a+major+source+of+contracting+the+infection%2C+and+candidates+may+become+vectors+carrying+the+virus+to+their+homes%2C+it+said.%0D%0AThe+petitioners+said%2C+The+mere+fact+that+lakhs+of+students+have+registered+for+the+exam+is+not+indicative+of+their+consent+or+willingness+or+desire+to+attend+physical+exams%2C+as+no+student+would+like+to+forego+the+exam%2C+if+its+conducted+and+the+respondents+are+forcing+the+students+to+put+their+lives+and+health+in+peril+by+conducting+these+exams.%0D%0AThey+said%2C+If+the+Union+Govt%2FNTA+decides+to+hold+the+exams%2C+then+the+students+do+not+have+an+effective+choice+left+but+to+register+and+appear+for+the+exam+at+great+personal+risk.%0D%0AOppn+parties+slam+Centre%3A+Listen+to+students%0D%0AAfter+approaching+the+Supreme+Court%2C+four+Opposition+parties+led+by+the+Congress+on+Friday+hit+out+at+the+BJP-led+central+government%2C+accusing+it+of+being+stubborn+about+holding+the+NEET+and+JEE+examinations.%0D%0AFormer+Congress+president+Rahul+Gandhi+said+the+government+has+been+incompetent.+He+and+Congress+president+Sonia+Gandhi+asked+the+government+to+listen+to+students.%0D%0APlease%2C+listen+to+them.+Have+a+conversation+and+resolve+this+issue+peacefully%2C+he+said.%0D%0AAddressing+a+joint+press+conference%2C+Jharkhand+Chief+Minister+Hemant+Soren+%28JMM%29%2C+Congress+leader+Abhishek+Singhvi%2C+Trinamool+Congress+MP+Derek+O+Brien+and+Maharashtra+Higher+Education+Minister+Uday+Samant+%28Shiv+Sena%29+slammed+the+Centre+over+the+issue.%0D%0AThe+Indian+Express+is+now+on+Telegram.+Click+here+to+join+our+channel+%28%40indianexpress%29+and+stay+updated+with+the+latest+headlines%0D%0AFor+all+the+latest+India+News%2C+download+Indian+Express+App.%22%0D%0A&y=%22Six+opposition-ruled+states+have+filed+a+review+petition+in+the+Supreme+Court+against+its+order+allowing+the+central+government+to+hold+the+National+Eligibility+cum+Entrance+Test+%28NEET%29+and+Joint+Entrance+Examination+%28JEE%29+in+September.%0D%0AWest+Bengal%2C+Jharkhand%2C+Chhattisgarh%2C+Maharashtra%2C+Punjab+and+Rajasthan+have+approached+the+top+court+against+the+August+17+order.%0D%0AAlso+read%7Câ€‰Postpone+or+find+an+alternative+way+to+conduct+JEE%2C+NEET+exams%3A+Manish+Sisodia%0D%0AThe+top+court+had+dismissed+another+petition+to+postpone+these+entrance+exams+to+engineering+and+medical+colleges+on+August+17.+A+crucial+year+of+students+â€œcannot+be+wastedâ€+and+â€œlife+has+to+go+onâ€%2C+Supreme+Court+had+said+in+the+order.%0D%0AALSO+WATCH+%7C+JEE%2C+NEET+2020%3A+Should+exams+be+postponed%3F+Education+minister+answers%0D%0ANational+Testing+Agency+%28NTA%29+has+given+a+directive+to+conduct+JEE+from+September+1+to+6%2C+and+NEET+on+September+13.%0D%0AIn+an+organised+show+of+protest+against+holding+these+exams+amid+Covid-19+outbreak%2C+Congress+president+Sonia+Gandhi+and+West+Bengal+CM+Mamata+Banerjee+had+called+for+a+meeting+of+opposition-ruled+states+leaders+on+August+26.%0D%0ADuring+theÂ +meeting%2C+CM+Mamata+Banerjee+had+suggested+approaching+the+Supreme+CourtÂ again+for+postponing+the+exams+owing+to+the+prevailing+Covid-19+situation.Â %0D%0Aâ€œThis+will+be+my+request+to+all+the+state+governments%2C+let+us+do+it+together%2C+let+us+go+to+the+Supreme+Court+and+postpone+the+exam+for+the+time+being+until+and+unless+the+situation+allows+students+to+appear+for+the+exams%2Câ€+she+had+said.%22%0D%0A HTTP/1.1\" 200 -\n"
     ]
    },
    {
     "name": "stderr",
     "output_type": "stream",
     "text": [
      "127.0.0.1 - - [07/Dec/2020 00:37:41] \"GET /eval?x=%22Six+ministers+from+Maharashtra%2C+Punjab%2C+West+Bengal%2C+Jharkhand%2C+Rajasthan+and+Chhattisgarh+moved+the+Supreme+Court+on+Friday+and+sought+review+of+its+August+17+order+allowing+conduct+of+NEET+%28UG%29+and+JEE+%28Mains%29+entrance+examinations.%0D%0AThe+plea+referred+to+the+rise+in+Covid-19+cases+in+the+country+and+said+that+if+the+August+17+order+is+not+reviewed%2C+grave+and+irreparable+harm+and+injury+would+befall+on+the+student+community.+The+petitioners+said+not+only+will+health%2C+welfare+and+safety+of+students%2Fcandidates+appearing+for+the+NEET%2FJEE+examinations+stand+imperilled+but+also+the+public+health+at+large+would+be+in+severe+jeopardyâ€¦%0D%0AThe+petitioners+are+Moloy+Ghatak+%28minister+from+West+Bengal%29%2C+Rameshwar+Oraon+%28Jharkhand%29%2C+Raghu+Sharma+%28Rajasthan%29%2C+Amarjeet+Bhagat+%28Chhattisgarh%29%2C+Balbir+Singh+Sidhu+%28Punjab%29%2C+and+Uday+Ravindra+Samant+%28Maharashtra%29.%0D%0AThe+petition%2C+filed+through+advocate+Sunil+Fernandes%2C+stated+that+the+National+Testing+Agency+%28NTA%29+had+notified+that+NEET+%28UG%29+will+be+held+on+September+13+and+JEE+%28Mains%29+from+September+1-6.%0D%0AThe+plea+said+that+as+per+NTA%2C+approximately+9.53+lakh+and+15.97+lakh+students+have+registered+for+JEE+%28Mains%29+and+NEET+%28UG%29%2C+respectively.+This+means+25+lakh+students+cumulatively+would+be+appearing+for+these+two+examinations%2C+the+petition+stated.+As+on+27th+August%2C+India+has+over+3.31+million+%5Bmore+than+33+lakh%5D+Covid-19+cases.+We+are+presently+at+the+third+position+in+this+unenviable+list+after+the+US+%285.79+million+cases%29+and+Brazil+%283.72+million%29+and+on+course+to+be+the+No.+1+nation+on+this+list.%0D%0AWhile+there+are+660+examination+centres+for+JEE+roughly+1%2C443+students+per+centre+there+are+3%2C843+centres+for+NEET%2C+or+approximately+415+students+per+centre%2C+the+petitioners+pointed+out.+Such+large+movement+of+people+will+ipso+facto+prove+to+be+a+serious+health+hazard+and+will+totally+defeat+the+twin+present-day+solutions+we+have+of+combating+the+Covid-19+i.e.+social+distancing+and+avoidance+of+large+public+gatherings%2C+they+said%2C+urging+the+court+to+postpone+the+entrance+examinations.%0D%0ARead+%7C+Odisha+announces+free+transport%2C+stay+for+NEET%2C+JEE+candidates%0D%0AThe+plea+said%2C+Having+at+least+one+centre+per+district+would+have+minimised+the+inter-district+travel+of+students+and+thereby+reduced+chances+of+Covid-19+spread.%0D%0AThe+petitioners+said%2C+The+mere+fact+that+lakhs+of+students+have+registered+for+the+exam+is+not+indicative+of+their+consent+or+willingness+or+desire+to+attend+physical+exams%2C+as+no+student+would+like+to+forego+the+exam%2C+if+its+conducted+and+the+respondents+are+forcing+the+students+to+put+their+lives+and+health+in+peril+by+conducting+these+exams.%0D%0AIn+a+situation%2C+the+plea+said%2C+where+there+is+absolutely+no+classroom+teaching%2C+the+decision+of+the+Union+Government+to+conduct+examinations+on+such+a+massive+scale+reveals+non-application+of+mind+and+is+unreasonable%2C+arbitrary+and+capricious+exercise+of+power.%0D%0AThe+petitioners+said+they+do+not+wish+to+make+any+value+judgment+or+political+criticism+of+the+Union+Government+in+such+times+but+the+undisputed+facts+are+that+there+has+been+an+exponential+increase+in+both+Covid-19+positive+cases+as+well+as+deaths%2Fmortality+arising+out+of+Covid-19+from+April%2C+when+these+exams+were+originally+scheduled%2C+till+August%2C+when+the+Union+Government+decided+to+conduct+the+said+examinations.%0D%0AThe+Covid-19+graph+is+showing+a+continuous+upward+movement+and+the+â€˜curveâ€™+has+not+flattened+for+the+Government+to+undertake+such+a+massive+exercise%2C+the+petition+stated.+It+said+that+schools+and+colleges+continue+to+remain+shut+despite+the+various+phases+of+unlock+and+there+is+no+rational+nexus+between+the+object+of+the+examinations+and+the+purpose+that+it+seeks+to+achieve.%0D%0AAlso+Read+%7C+West+Bengal+not+to+hold+final+year+exams+in+September%2C+likely+before+Puja%0D%0AThe+six+ministers+stated+that+the+Centre+had+adequate+time+to+make+comprehensive+preparations+for+safe+and+successful+conduct+of+the+examinations.+However%2C+they+argued%2C+the+intervening+months+from+April+to+September+were+characterised+by+inaction%2C+confusion%2C+lethargy+and+inertiaâ€¦now+the+Union+Government+has+suddenly+woken+up+to+realise+that+their+inertia+is+going+to+cost+lakhs+of+students+their+academic+year+and+therefore+as+a+knee-jerk+reactionâ€¦has+haphazardly+and+hurriedly+fixed+the+dates+of+the+examinations.%0D%0AThe+petitioners+called+it+a+remedy+that+will+prove+to+be+worse+than+the+disease+itself.%0D%0AThe+plea+said+that+postponing+the+exams+by+two+months+would+give+valuable+time+to+the+government+to+put+in+place+an+adequate+mechanism+in+consultation+with+the+State+Governments%2C+to+ensure+a+smoother+and+safer+conduct+of+examinations.%0D%0AThe+petition+also+pointed+to+health+issues+of+students+and+said+that+even+otherwise%2C+with+recent+evidences+and+information+of+the+virus+being+allegedly+airborne+now%2C+conducting+of+physical+examination+of+such+magnitude+can+have+disastrous+consequences.%0D%0AAlso+Read+%7C+Sonu+Sood+offers+help+to+students+who+need+to+travel+for+JEE%2C+NEET%0D%0AThe+petition+said+there+have+been+instances+where+surge+in+cases+have+been+reported+after+offline+exams+were+conducted.%0D%0AThe+process+of+reaching+the+examination+centre+itself+can+be+a+major+source+of+contracting+the+infection%2C+and+candidates+may+become+vectors+carrying+the+virus+to+their+homes%2C+it+said.%0D%0AThe+petitioners+said%2C+The+mere+fact+that+lakhs+of+students+have+registered+for+the+exam+is+not+indicative+of+their+consent+or+willingness+or+desire+to+attend+physical+exams%2C+as+no+student+would+like+to+forego+the+exam%2C+if+its+conducted+and+the+respondents+are+forcing+the+students+to+put+their+lives+and+health+in+peril+by+conducting+these+exams.%0D%0AThey+said%2C+If+the+Union+Govt%2FNTA+decides+to+hold+the+exams%2C+then+the+students+do+not+have+an+effective+choice+left+but+to+register+and+appear+for+the+exam+at+great+personal+risk.%0D%0AOppn+parties+slam+Centre%3A+Listen+to+students%0D%0AAfter+approaching+the+Supreme+Court%2C+four+Opposition+parties+led+by+the+Congress+on+Friday+hit+out+at+the+BJP-led+central+government%2C+accusing+it+of+being+stubborn+about+holding+the+NEET+and+JEE+examinations.%0D%0AFormer+Congress+president+Rahul+Gandhi+said+the+government+has+been+incompetent.+He+and+Congress+president+Sonia+Gandhi+asked+the+government+to+listen+to+students.%0D%0APlease%2C+listen+to+them.+Have+a+conversation+and+resolve+this+issue+peacefully%2C+he+said.%0D%0AAddressing+a+joint+press+conference%2C+Jharkhand+Chief+Minister+Hemant+Soren+%28JMM%29%2C+Congress+leader+Abhishek+Singhvi%2C+Trinamool+Congress+MP+Derek+O+Brien+and+Maharashtra+Higher+Education+Minister+Uday+Samant+%28Shiv+Sena%29+slammed+the+Centre+over+the+issue.%0D%0AThe+Indian+Express+is+now+on+Telegram.+Click+here+to+join+our+channel+%28%40indianexpress%29+and+stay+updated+with+the+latest+headlines%0D%0AFor+all+the+latest+India+News%2C+download+Indian+Express+App.%22%0D%0A&y=%22Six+opposition-ruled+states+have+filed+a+review+petition+in+the+Supreme+Court+against+its+order+allowing+the+central+government+to+hold+the+National+Eligibility+cum+Entrance+Test+%28NEET%29+and+Joint+Entrance+Examination+%28JEE%29+in+September.%0D%0AWest+Bengal%2C+Jharkhand%2C+Chhattisgarh%2C+Maharashtra%2C+Punjab+and+Rajasthan+have+approached+the+top+court+against+the+August+17+order.%0D%0AAlso+read%7Câ€‰Postpone+or+find+an+alternative+way+to+conduct+JEE%2C+NEET+exams%3A+Manish+Sisodia%0D%0AThe+top+court+had+dismissed+another+petition+to+postpone+these+entrance+exams+to+engineering+and+medical+colleges+on+August+17.+A+crucial+year+of+students+â€œcannot+be+wastedâ€+and+â€œlife+has+to+go+onâ€%2C+Supreme+Court+had+said+in+the+order.%0D%0AALSO+WATCH+%7C+JEE%2C+NEET+2020%3A+Should+exams+be+postponed%3F+Education+minister+answers%0D%0ANational+Testing+Agency+%28NTA%29+has+given+a+directive+to+conduct+JEE+from+September+1+to+6%2C+and+NEET+on+September+13.%0D%0AIn+an+organised+show+of+protest+against+holding+these+exams+amid+Covid-19+outbreak%2C+Congress+president+Sonia+Gandhi+and+West+Bengal+CM+Mamata+Banerjee+had+called+for+a+meeting+of+opposition-ruled+states+leaders+on+August+26.%0D%0ADuring+theÂ +meeting%2C+CM+Mamata+Banerjee+had+suggested+approaching+the+Supreme+CourtÂ again+for+postponing+the+exams+owing+to+the+prevailing+Covid-19+situation.Â %0D%0Aâ€œThis+will+be+my+request+to+all+the+state+governments%2C+let+us+do+it+together%2C+let+us+go+to+the+Supreme+Court+and+postpone+the+exam+for+the+time+being+until+and+unless+the+situation+allows+students+to+appear+for+the+exams%2Câ€+she+had+said.%22%0D%0A HTTP/1.1\" 200 -\n"
     ]
    },
    {
     "name": "stderr",
     "output_type": "stream",
     "text": [
      "127.0.0.1 - - [07/Dec/2020 00:44:08] \"GET /eval?x=At+08%3A45+AM%2C+Nifty+futures+on+the+Singapore+Exchange+%28SGX%29+traded+4.5+points+or+0.04+per+cent+higher+at+11%2C569.20%2C+indicating+a+flat+start+for+the+Indian+market+on+Thursday.+Here%27s+a+list+of+stocks+that+may+trade+actively+in+today%27s+trading+session.+Coal+India%3A+Coal+India+Ltd+%28CIL%29+on+Wednesday+posted+55+per+cent+decline+in+consolidated+net+profit+at+Rs+2%2C079.60+crore+for+the+quarter+ended+June+30+on+the+back+of+lower+sales.+Jubilant+FoodWorks%3A+Jubilant+FoodWorks+Ltd%2C+which+operates+fast-food+chains+Domino%27s+Pizza+and+Dunkin%27+Donuts%2C+on+Wednesday+reported+a+consolidated+net+loss+of+Rs+74.47+crore+for+the+first+quarter+ended+June+2020%2C+impacted+by+closure+of+stores+due+to+Covid-19+pandemic+and+consequent+lockdown.+Banks%2C+NBFCs%3A+Finance+Minister+Nirmala+Sitharaman+will+hold+a+review+meeting+with+heads+of+banks+and+NBFCs+on+Thursday+for+smooth+and+speedy+implementation+of+the+one-time+debt+recast+for+resolution+of+Covid-19+related+stress+in+bank+loans.+InterGlobe+Aviation%2C+SpiceJet%3A+The+government+has+allowed+airlines+to+increase+flights+up+to+60+per+cent+of+their+total+capacity%2C+against+the+previous+cap+of+one-third+capacity%2C+aviation+regulator+Directorate+General+of+Civil+Aviation+said+on+Wednesday.+Kalpataru+Power%3A+The+company+has+incorporated+a+wholly-owned+arm+-+Kalpataru+Power+Senegal+in+Senegal+to+foray+into+transmission+and+distribution+and+railways+business.+EIL%3A+The+company+has+received+an+order+worth+Rs+448+crore+from+Gail+India.+Edelweiss+Financial+Services%3A+Ontario+Teachers’+Pension+Plan+Board+%28“Ontario+Teachers’”%29+has+partnered+with+Edelweiss+Group+to+invest+%24350+million+%28Rs+2%2C600+crore%29+in+Indian+private+credit.+LIC+Housing+Finance+on+Wednesday+said+it+will+seek+shareholders%27+approval+in+the+upcoming+annual+general+meeting+this+month+to+raise+up+to+Rs+50%2C500+crore+by+issuing+debt+securities+or+other+hybrid+instruments+on+a+private+placement+basis.+Earnings+today%3A+A+total+of+43+companies+including+Jubilant+Industries+and+Page+Industries+are+set+to+report+their+earnings+today.+Rossari+Biotech%3A+Plutus+Wealth+Management+bought+3%2C00%2C000+shares+of+Rossari+Biotech+at+Rs+773.82+per+share+on+Wednesday.%0D%0A%0D%0A%7B&y=Nifty+futures+on+the+Singapore+Exchange+traded+14.5+points%2C+or+0.13+per+cent+lower+at+11%2C545%2C+in+signs+that+Dalal+Street+was+headed+for+a+muted+start+on+Thursday.+Here+are+a+few+stocks+which+may+buzz+the+most+in+today%27s+trade%3A+Coal+India%3A+Mining+major+Coal+India+reported+a+55+per+cent+drop+in+its+net+profit+for+the+quarter+ended+June+to+Rs+2%2C079.60+crore%2C+but+still+managed+to+beat+analysts+estimates.+IndusInd+Bank%3A+The+private+sector+on+Wednesday+said+it+has+approved+allotment+of+preferential+shares+to+marquee+investors+to+raise+Rs+2%2C495.79+crore.+RIL%2C+Infosys%3A+Vanguard+Total+International+Stock+Index+Fund+on+Wednesday+sold+shares+of+HDFC%2C+Hindustan+Unilever%2C+Infosys%2C+Reliance+Industries+and+TCS+for+Rs+677.72+crore+through+open+market+transactions.+The+shares+were+purchased+by+VFTR+C+Institutional+Total+International+Stock+Index+Trust+II.+Sterlite+Technologies%3A+Data+technology+firm+Sterlite+Technologies+said+its+chief+financial+officer+Anupam+Jindal+has+resigned+from+the+company+and+will+be+relieved+from+his+duties+from+September+11.+Infibeam+Avenues%3A+The+company+reported+a+58.6+per+cent+decline+in+consolidated+net+profit+at+Rs+12+crore+for+June+2020+quarter.+The+company+had+posted+a+net+profit+of+Rs+29+crore+in+the+year-ago+period%2C+Infibeam+Avenues+said+in+a+regulatory+filing.+Dish+TV%3A+Direct-to-home+company+Dish+TV+India+reported+a+consolidated+net+profit+of+Rs+74.54+crore+for+the+quarter+ended+June.+It+had+posted+a+net+loss+of+Rs+35.44+crore+in+the+April-June+period+a+year+ago%2C+Dish+TV+said+in+a+BSE+filing.+ONGC%3A+State-owned+Oil+and+Natural+Gas+Corp+%28ONGC%29+may+see+capital+spending+this+fiscal+reduce+by+close+to+one-fifth+after+Covid-19+related+restrictions+delayed+projects%2C+PTI+reported+citing+director-finance+Subhash+Kumar+.+Separately%2C+Reuters+reported+the+company+is+unlikely+to+buy+overseas+oil+and+gas+assets+at+current+prices+of+about+%2445+a+barrel%2C+citing+finance+director+Subhash+Kumar.+Ashok+Leyland%3A+Hinduja+group+flagship+Ashok+Leyland+plans+to+come+up+with+multiple+products+for+various+segments+to+cater+to+both+domestic+and+international+markets+as+it+aims+to+de-risk+its+business%2C+which+is+currently+skewed+towards+heavy+and+commercial+vehicles%2C+Chairman+Dheeraj+G+Hinduja+told+PTI.+Adani+Enterprises%3A+Billionaire+Gautam+Adani+said+his+ports-to-energy+conglomerate+Adani+Group+acquiring+a+controlling+stake+in+Mumbai+airport+will+help+expand+its+existing+portfolio+of+six+airports+and+create+strategic+adjacencies+for+the+group%27s+other+businesses+LIC+Housing+Finance%3ALIC+Housing+Finance+said+it+will+seek+shareholders%27+approval+in+the+upcoming+annual+general+meeting+this+month+to+raise+up+to+Rs+50%2C500+crore+by+issuing+debt+securities+or+other+hybrid+instruments+on+a+private+placement+basis.+Satin+Creditcare+Network%3A+Microfinance+company+Satin+Creditcare+Network+has+reported+69+per+cent+year-on-year+fall+in+net+profit+for+the+June+quarter+on+account+of+a+rise+in+provisions+even+as+its+asset+quality+improved+over+the+quarters.+Cosmo+Films%3A+The+packaging+products+maker+said+it+will+invest+Rs+300+crore+to+set+up+a+new+line+of+speciality+polyester+films+at+Aurangabad.+In+a+regulatory+filing%2C+the+company+said+it+plans+to+set+up+a+new+line+of+specialty+polyester+films+%28Biaxially-Oriented+Polyethylene+Terephthalate+or+BOPET%29+by+the+second+quarter+of+2022-23.+DHFL%3A+Fraudulent+transactions+worth+Rs+17%2C394+crore+happened+at+debt-ridden+mortgage+firm+DHFL+during+FY07+to+FY19%2C+according+to+transaction+auditor+Grant+Thornton.+Rossari+Biotech%3A+Plutus+Wealth+Management+bought+3%2C00%2C000+shares+of+Rossari+Biotech+at+Rs+773.82+per+share.+Page+Industries%2C+MSTC%2C+Panacea+Biotec%2C+Zuari+Agro+Chemicals%3A+These+companies+are+scheduled+to+announce+their+June+quarter+earnings+on+Thursday.+Sadbhav+Engineering%3A+Sadbhav+Engineering+reported+widening+of+consolidated+loss+to+Rs+123.45+crore+for+the+quarter+ended+June.+The+company+had+a+loss+of+Rs+30.04+crore+in+April-June+last+year.+Arvind+Fashions%3A+Arvind+Fashions%2C+which+sells+brands+such+as+Calvin+Klein%2C+Gap+and+Tommy+Hilfiger%2C+reported+on+Wednesday+a+consolidated+net+loss+of+Rs+213+crore+for+the+June+quarter%2C+as+stores+across+the+country+remained+largely+shut+through+the+period+to+prevent+the+coronavirus+from+spreading.+UPL%3A+Sandra+Shroff%2C+vice+chairman+of+agrochemical+company+UPL+has+resigned+from+the+board+just+before+the+annual+general+meeting+on+August+31+as+proxy+advisory+firms+recommended+that+institutional+investors+should+vote+against+her+reappointment+as+non-executive+director+citing+the+excessive+remuneration+paid+to+her+through+subsidiaries+or+group+companies.%0D%0A HTTP/1.1\" 200 -\n"
     ]
    }
   ],
   "source": [
    "app = Flask(__name__)\n",
    "\n",
    "def get_index():\n",
    "    return \"<form action=\\\"/eval\\\" method=\\\"get\\\" id=\\\"eval\\\"> \\\n",
    "      <textarea name=\\\"x\\\" rows=\\\"20\\\" cols=\\\"100\\\" form=\\\"eval\\\">Enter text X here...</textarea> \\\n",
    "      <textarea name=\\\"y\\\" rows=\\\"20\\\" cols=\\\"100\\\" form=\\\"eval\\\">Enter text Y here...</textarea> \\\n",
    "      <input type=\\\"submit\\\">\"\n",
    "    \n",
    "\n",
    "@app.route(\"/\")\n",
    "def init():\n",
    "    return get_index()\n",
    "\n",
    "\n",
    "@app.route(\"/eval\")\n",
    "def eval():\n",
    "    x =request.args.get('x')\n",
    "    y =request.args.get('y')\n",
    "    verdict, r = heuristic(x, y)\n",
    "    return r\n",
    "\n",
    "\n",
    "if __name__ == \"__main__\":\n",
    "    app.run(host='0.0.0.0')"
   ]
  },
  {
   "cell_type": "code",
   "execution_count": 10,
   "metadata": {},
   "outputs": [],
   "source": [
    "def confusion(row):\n",
    "    suffix = 'N'\n",
    "    if int(row.prediction) == 1:\n",
    "        suffix = 'P'\n",
    "    prefix = 'F'\n",
    "    if row.prediction == row['binary-label']:\n",
    "        prefix = 'T'\n",
    "    return prefix+suffix\n",
    "\n",
    "no_of = lambda x: len(result[result['confusion']==x])\n",
    "\n",
    "def print_quality(result):\n",
    "    result['prediction'] = result.apply(lambda row: on_row(row), axis=1)\n",
    "    result['confusion'] = result.apply(lambda row: confusion(row), axis = 1)\n",
    "    Accuracy = (no_of('TP') + no_of('TN'))/(no_of('TP') + no_of('TN') + no_of('FP') + no_of('FN'))\n",
    "    Precision = no_of('TP') / (no_of('TP') + no_of('FP'))\n",
    "    Recall = no_of('TP') / (no_of('TP') + no_of('FN'))\n",
    "    print('Accuracy = '+ str(Accuracy))\n",
    "    print('Precision = '+ str(Precision))\n",
    "    print('Recall = '+ str(Recall))\n",
    "\n",
    "def on_row(row):\n",
    "    x = row['content_x']\n",
    "    y = row['content_y']\n",
    "    verdict, r = heuristic(x, y)\n",
    "    return verdict\n",
    "\n",
    "test_data = 'D:\\\\newsapibackup\\\\benchmark-data_balance.csv'\n",
    "# test_data = 'D:\\\\newsapibackup\\\\benchmark-data_real.csv'\n",
    "result = pd.read_csv(test_data)\n"
   ]
  },
  {
   "cell_type": "markdown",
   "metadata": {},
   "source": [
    "Sorry reader. I need to suppress the warnings. They will be printed in a loop otherwise"
   ]
  },
  {
   "cell_type": "code",
   "execution_count": 11,
   "metadata": {},
   "outputs": [],
   "source": [
    "import warnings\n",
    "warnings.filterwarnings('ignore')"
   ]
  },
  {
   "cell_type": "code",
   "execution_count": 12,
   "metadata": {},
   "outputs": [
    {
     "name": "stdout",
     "output_type": "stream",
     "text": [
      "Accuracy = 0.8\n",
      "Precision = 0.7380952380952381\n",
      "Recall = 0.6966292134831461\n"
     ]
    }
   ],
   "source": [
    "print_quality(result)"
   ]
  },
  {
   "cell_type": "code",
   "execution_count": null,
   "metadata": {},
   "outputs": [],
   "source": []
  },
  {
   "cell_type": "code",
   "execution_count": null,
   "metadata": {},
   "outputs": [],
   "source": []
  },
  {
   "cell_type": "code",
   "execution_count": null,
   "metadata": {},
   "outputs": [],
   "source": []
  }
 ],
 "metadata": {
  "kernelspec": {
   "display_name": "Python 3",
   "language": "python",
   "name": "python3"
  }
 },
 "nbformat": 4,
 "nbformat_minor": 4
}
