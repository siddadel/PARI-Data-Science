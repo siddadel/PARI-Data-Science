{
 "cells": [
  {
   "cell_type": "code",
   "execution_count": 1,
   "metadata": {},
   "outputs": [
    {
     "name": "stdout",
     "output_type": "stream",
     "text": [
      "0.0\n",
      "-121.76569881618465\n",
      "43.78378378378378\n",
      "118.55761771267963\n"
     ]
    }
   ],
   "source": [
    "# import gmplot package \n",
    "import gmplot \n",
    "import pandas as pd\n",
    "root = \"D:\\\\mp\\\\map-draw-python\\\\\"\n",
    "cluster_prefix = 'map_2'\n",
    "file = root+cluster_prefix+\".html\"\n",
    "\n",
    "df = pd.read_csv(root+\"data.csv\")\n",
    "# df = df[(df['Cluster']==3)& (df['location']!='[]')]['location']\n",
    "df = df[(df['Cluster']==2) & (df['location']!='[]')]['location']\n",
    "x = df.apply(lambda x: float(x.strip('[]').split(',')[0].strip().strip('\"\"')))\n",
    "y =  df.apply(lambda x: float(x.strip('[]').split(',')[1].strip().strip('\"\"')))\n",
    "min_lon =y.min()\n",
    "max_lon = y.max()\n",
    "min_lat = x.min()\n",
    "max_lat = x.max()\n",
    "print(min_lat)\n",
    "print(min_lon)\n",
    "print(max_lat)\n",
    "print(max_lon)"
   ]
  },
  {
   "cell_type": "code",
   "execution_count": 2,
   "metadata": {},
   "outputs": [],
   "source": [
    "## Create empty map with zoom level 16\n",
    "gmap1 = gmplot.GoogleMapPlotter(\n",
    "    min_lat + (max_lat - min_lat) / 2, \n",
    "    min_lon + (max_lon - min_lon) / 2, \n",
    "    3)\n",
    "  "
   ]
  },
  {
   "cell_type": "code",
   "execution_count": 3,
   "metadata": {},
   "outputs": [],
   "source": [
    "# gmap1.scatter(x, y, '#FF0A0F',  size = 100, marker = True ) \n",
    "gmap1.heatmap(x, y);"
   ]
  },
  {
   "cell_type": "code",
   "execution_count": 4,
   "metadata": {},
   "outputs": [],
   "source": [
    "x_array = x.array\n",
    "y_array = y.array\n",
    "l = [(x_array[i], y_array[i]) for i in range(0, len(x))] "
   ]
  },
  {
   "cell_type": "code",
   "execution_count": 5,
   "metadata": {},
   "outputs": [],
   "source": [
    "for i in range(0, len(x)):\n",
    "    gmap1.marker(x_array[i], y_array[i], 'cornflowerblue')"
   ]
  },
  {
   "cell_type": "code",
   "execution_count": 6,
   "metadata": {},
   "outputs": [],
   "source": [
    "gmap1.apikey = '####'\n",
    "# # Pass the absolute path \n",
    "gmap1.draw(file)"
   ]
  },
  {
   "cell_type": "code",
   "execution_count": 7,
   "metadata": {},
   "outputs": [
    {
     "data": {
      "text/plain": [
       "0"
      ]
     },
     "execution_count": 7,
     "metadata": {},
     "output_type": "execute_result"
    }
   ],
   "source": [
    "import os\n",
    "os.system(file)"
   ]
  },
  {
   "cell_type": "code",
   "execution_count": 8,
   "metadata": {},
   "outputs": [
    {
     "name": "stdout",
     "output_type": "stream",
     "text": [
      "Loading formatted geocoded file...\n"
     ]
    }
   ],
   "source": [
    "import reverse_geocoder as rg \n",
    "import pprint \n",
    "\n",
    "result = rg.search(l) "
   ]
  },
  {
   "cell_type": "code",
   "execution_count": 9,
   "metadata": {},
   "outputs": [],
   "source": [
    "names = [d['name'] for d in result]"
   ]
  },
  {
   "cell_type": "code",
   "execution_count": 10,
   "metadata": {},
   "outputs": [],
   "source": [
    "import collections\n",
    "freq = collections.Counter(names) \n"
   ]
  },
  {
   "cell_type": "code",
   "execution_count": 11,
   "metadata": {},
   "outputs": [],
   "source": [
    "df1 = pd.DataFrame.from_dict(freq, orient='index').reset_index()\n"
   ]
  },
  {
   "cell_type": "code",
   "execution_count": 12,
   "metadata": {},
   "outputs": [],
   "source": [
    "df1.to_csv(root+cluster_prefix+\".csv\")"
   ]
  },
  {
   "cell_type": "code",
   "execution_count": 13,
   "metadata": {},
   "outputs": [],
   "source": []
  },
  {
   "cell_type": "code",
   "execution_count": 14,
   "metadata": {},
   "outputs": [
    {
     "name": "stderr",
     "output_type": "stream",
     "text": [
      "C:\\Users\\PARI\\Anaconda3\\lib\\site-packages\\IPython\\core\\interactiveshell.py:3058: DtypeWarning: Columns (106,107,108,109,110,111,112) have mixed types. Specify dtype option on import or set low_memory=False.\n",
      "  interactivity=interactivity, compiler=compiler, result=result)\n"
     ]
    },
    {
     "name": "stdout",
     "output_type": "stream",
     "text": [
      "(17596, 139)\n",
      "(26112, 139)\n",
      "(35113, 139)\n",
      "(44243, 139)\n",
      "(53310, 139)\n",
      "(61694, 139)\n",
      "(70020, 139)\n",
      "(77848, 139)\n",
      "(86010, 139)\n",
      "(94320, 139)\n",
      "(102618, 139)\n",
      "(110796, 139)\n",
      "(118940, 139)\n",
      "(127126, 139)\n",
      "(135285, 139)\n",
      "(143348, 139)\n",
      "(151673, 139)\n",
      "(159769, 139)\n",
      "(167779, 139)\n",
      "(175985, 139)\n",
      "(182677, 139)\n",
      "(190815, 139)\n",
      "(198987, 139)\n",
      "(206692, 139)\n",
      "(207497, 139)\n",
      "(208254, 139)\n",
      "(208962, 139)\n",
      "(209667, 139)\n",
      "(210416, 139)\n",
      "(211164, 139)\n",
      "(211868, 139)\n",
      "(212531, 139)\n",
      "(213254, 139)\n",
      "(213979, 139)\n",
      "(214718, 139)\n",
      "(215459, 139)\n",
      "(216241, 139)\n",
      "(217076, 139)\n",
      "(217873, 139)\n",
      "(218604, 139)\n",
      "(219486, 139)\n",
      "(220433, 139)\n",
      "(221336, 139)\n",
      "(222130, 139)\n",
      "(222971, 139)\n",
      "(224182, 139)\n",
      "(231045, 139)\n",
      "(239473, 139)\n",
      "(247894, 139)\n",
      "(256372, 139)\n",
      "(265123, 139)\n",
      "(273648, 139)\n",
      "(283110, 139)\n",
      "(293111, 139)\n",
      "(303112, 139)\n",
      "(313113, 139)\n",
      "(323114, 139)\n",
      "(333115, 139)\n",
      "(343116, 139)\n",
      "(353117, 139)\n",
      "(363118, 139)\n",
      "(373119, 139)\n",
      "(383120, 139)\n",
      "(393121, 139)\n",
      "(403122, 139)\n",
      "(413123, 139)\n",
      "(423124, 139)\n",
      "(433125, 139)\n",
      "(443126, 139)\n",
      "(453127, 139)\n",
      "(463128, 139)\n",
      "(473129, 139)\n",
      "(483130, 139)\n",
      "(493131, 139)\n",
      "(503132, 139)\n",
      "(513133, 139)\n"
     ]
    },
    {
     "name": "stderr",
     "output_type": "stream",
     "text": [
      "C:\\Users\\PARI\\Anaconda3\\lib\\site-packages\\IPython\\core\\interactiveshell.py:3058: DtypeWarning: Columns (0,1,4,8,15,16,20,21,23,24,26,27,29,30,32,33,35,36,37,38,39,41,42,43,47,48,49,50,51,52,53,54,55,56,58,60,61,62,70,71,73,75,76,86,87,88,89,90,91,92,93,94,96,97,98,99,100,101,102,103,104,105,113,120,121,122,123,124,125,126,127,128,130,132,133,134,137,139,140,141,142,143,144,145,146,147,148,149,150,151,152,153,154,155,156,157,158,159,160,161,162,163,164,165,166,167,168,169,170,171,172,173,174,175,176,177,178,179,180,181,182,183,184,185,186,187,188,189,190,191,192,193,194,195,196,197,198,199,200,201,202,203,204,205,206,207,208,209,210,211,212,213,214,215,216,217,218,219,220,221,222,223,224,225,226,227,228,229,230,231,232,233,234,235,236,237,238,239,240,241,242,243,244,245,246,247,248,249,250,251,252,253,254,255,256,257,258,259,260,261,262,263,264,265,266,267,268,269,270,271,272,273,274,275,276,277,278,279,280,281,282,283,284,285,286,287,288,289,290,291,292,293,294,295,296,297,298,299,300,301,302,303,304,305,306,307,308,309,310,311,312,313,314,315,316,317,318,319,320,321,322,323,324,325,326,327,328,329,330,331,332,333,334,335,336,337,338,339,340,341,342,343,344,345,346,347,348,349,350,351,352,353,354,355,356,357,358,359,360,361,362,363,364,365,366,367,368,369,370,371,372,373,374,375,376,377,378,379,380,381,382,383,384,385,386,387,388,389,390,391,392,393,394,395,396,397,398,399,400,401,402,403,404,405,406,407,408,409,410,411,412,413,414,415,416,417,418,419,420,421,422,423,424,425,426,427,428,429,430,431,432,433,434,435,436,437,438,439,440,441,442,443,444,445,446,447,448,449,450,451,452,453,454,455,456,457,458,459,460,461,462,463,464,465,466,467,468,469,470,471,472,473,474,475,476,477,478,479,480,481,482,483,484,485,486,487,488,489,490,491,492,493,494,495,496,497,498,499,500,501,502,503,504,505,506,507,508,509,510,511,512,513,514,515,516,517,518,519,520,521,522,523,524,525,526,527,528,529,530,531,532,533,534,535,536,537,538,539,540,541,542,543,544,545,546,547,548,549,550,551,552,553,554,555,556,557,558,559,560,561,562,563,564,565,566,567,568,569,570,571,572,573,574,575,576,577,578,579,580,581,582,583,584,585,586,587,588,589,590,591,592,593,594,595,596,597,598,599,600,601,602,603,604,605,606,607,608,609,610,611,612,613,614,615,616,617,618,619,620,621,622,623,624,625,626,627,628,629,630,631,632,633,634,635,636,637,638,639,640,641,642,643,644,645,646,647,648,649,650,651,652,653,654,655,656,657,658,659,660,661,662,663,664,665,666,667,668,669,670,671,672,673,674,675,676,677,678,679,680,681,682,683,684,685,686,687,688,689,690,691,692,693,694,695,696,697,698,699,700,701,702,703,704,705,706,707,708,709,710,711,712,713,714,715,716,717,719,720,721,722,723,724,727,728,729,732,735,738,741,744,750,754,755,756,767,769,775,776,777,778,779,789,790,791,792,793,794,795,805,816,817,818,819,820,821,822,824,825,829,839,841,845,846,848) have mixed types. Specify dtype option on import or set low_memory=False.\n",
      "  interactivity=interactivity, compiler=compiler, result=result)\n",
      "C:\\Users\\PARI\\Anaconda3\\lib\\site-packages\\pandas\\core\\frame.py:7123: FutureWarning: Sorting because non-concatenation axis is not aligned. A future version\n",
      "of pandas will change to not sort by default.\n",
      "\n",
      "To accept the future behavior, pass 'sort=False'.\n",
      "\n",
      "To retain the current behavior and silence the warning, pass 'sort=True'.\n",
      "\n",
      "  sort=sort,\n"
     ]
    },
    {
     "name": "stdout",
     "output_type": "stream",
     "text": [
      "(522264, 849)\n",
      "(532265, 849)\n",
      "(542266, 849)\n",
      "(552267, 849)\n",
      "(562268, 849)\n",
      "(572269, 849)\n"
     ]
    },
    {
     "name": "stderr",
     "output_type": "stream",
     "text": [
      "C:\\Users\\PARI\\Anaconda3\\lib\\site-packages\\IPython\\core\\interactiveshell.py:3058: DtypeWarning: Columns (74,95,114,115,118) have mixed types. Specify dtype option on import or set low_memory=False.\n",
      "  interactivity=interactivity, compiler=compiler, result=result)\n"
     ]
    },
    {
     "name": "stdout",
     "output_type": "stream",
     "text": [
      "(576648, 849)\n",
      "(576648, 849)\n",
      "(576648, 849)\n",
      "(576648, 849)\n",
      "(576648, 849)\n",
      "(576648, 849)\n",
      "(576648, 849)\n"
     ]
    }
   ],
   "source": []
  },
  {
   "cell_type": "code",
   "execution_count": null,
   "metadata": {},
   "outputs": [],
   "source": []
  },
  {
   "cell_type": "code",
   "execution_count": null,
   "metadata": {},
   "outputs": [],
   "source": []
  }
 ],
 "metadata": {
  "kernelspec": {
   "display_name": "Python 3",
   "language": "python",
   "name": "python3"
  },
  "language_info": {
   "codemirror_mode": {
    "name": "ipython",
    "version": 3
   },
   "file_extension": ".py",
   "mimetype": "text/x-python",
   "name": "python",
   "nbconvert_exporter": "python",
   "pygments_lexer": "ipython3",
   "version": "3.7.6"
  }
 },
 "nbformat": 4,
 "nbformat_minor": 2
}
